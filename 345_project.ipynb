{
  "nbformat": 4,
  "nbformat_minor": 0,
  "metadata": {
    "colab": {
      "provenance": []
    },
    "kernelspec": {
      "name": "python3",
      "display_name": "Python 3"
    },
    "language_info": {
      "name": "python"
    }
  },
  "cells": [
    {
      "cell_type": "markdown",
      "source": [
        "Intro:\n"
      ],
      "metadata": {
        "id": "8fplsIadgwq4"
      }
    },
    {
      "cell_type": "code",
      "source": [
        "from google.colab import drive\n",
        "drive.mount('/content/drive')"
      ],
      "metadata": {
        "colab": {
          "base_uri": "https://localhost:8080/"
        },
        "id": "rHKeeNxzrsEv",
        "outputId": "0efd1229-423a-453e-c477-5c83a82078f7"
      },
      "execution_count": null,
      "outputs": [
        {
          "output_type": "stream",
          "name": "stdout",
          "text": [
            "Drive already mounted at /content/drive; to attempt to forcibly remount, call drive.mount(\"/content/drive\", force_remount=True).\n"
          ]
        }
      ]
    },
    {
      "cell_type": "code",
      "source": [
        "# Data\n",
        "import zipfile\n",
        "\n",
        "with zipfile.ZipFile('/content/drive/MyDrive/345/TestA.zip', 'r') as zip_ref:\n",
        "    zip_ref.extractall('/content/TestA')\n",
        "with zipfile.ZipFile('/content/drive/MyDrive/345/Test-B.zip', 'r') as zip_ref:\n",
        "    zip_ref.extractall('/content/TestB')\n",
        "with zipfile.ZipFile('/content/drive/MyDrive/345/Train.zip', 'r') as zip_ref:\n",
        "    zip_ref.extractall('/content/Train')\n",
        "\n"
      ],
      "metadata": {
        "id": "sonkk4FOgquv"
      },
      "execution_count": null,
      "outputs": []
    },
    {
      "cell_type": "code",
      "source": [
        "# Decision Tree\n",
        "from sklearn.tree import DecisionTreeClassifier\n",
        "from sklearn.model_selection import train_test_split\n",
        "from sklearn.metrics import accuracy_score"
      ],
      "metadata": {
        "id": "gmoQ9Cvugm8j"
      },
      "execution_count": null,
      "outputs": []
    },
    {
      "cell_type": "code",
      "execution_count": null,
      "metadata": {
        "id": "xJChtyVd5Yzw"
      },
      "outputs": [],
      "source": [
        "# CNN\n"
      ]
    },
    {
      "cell_type": "code",
      "source": [
        "# Vision Transformer\n",
        "import torch\n",
        "import torch.nn as nn\n",
        "import torch.optim as optim\n",
        "from torchvision import datasets, transforms\n",
        "\n",
        "# Image size for ViT/ResNet\n",
        "IMG_SIZE = 224\n",
        "\n",
        "train_transform = transforms.Compose([\n",
        "    transforms.Resize((IMG_SIZE, IMG_SIZE)),\n",
        "    transforms.RandomHorizontalFlip(),\n",
        "    transforms.RandomRotation(10),\n",
        "    transforms.ToTensor(),\n",
        "    transforms.Normalize([0.5], [0.5])  # For grayscale images adjust if needed\n",
        "])\n",
        "\n",
        "train_dataset = datasets.ImageFolder('path_to_train_folder', transform=train_transform)\n",
        "train_loader = torch.utils.data.DataLoader(train_dataset, batch_size=32, shuffle=True)"
      ],
      "metadata": {
        "id": "g1GUI15deTuf"
      },
      "execution_count": null,
      "outputs": []
    },
    {
      "cell_type": "markdown",
      "source": [
        "Conclusion:\n"
      ],
      "metadata": {
        "id": "RlJ8iMnpg4Up"
      }
    }
  ]
}